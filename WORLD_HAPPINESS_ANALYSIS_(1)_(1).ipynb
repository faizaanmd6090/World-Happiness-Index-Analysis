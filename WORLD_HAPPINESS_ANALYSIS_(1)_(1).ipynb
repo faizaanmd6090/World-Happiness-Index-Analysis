{
 "cells": [
  {
   "cell_type": "code",
   "execution_count": null,
   "metadata": {
    "id": "ywkllXSPvj0o"
   },
   "outputs": [],
   "source": [
    "import pandas as pd\n",
    "import numpy as np\n",
    "import matplotlib.pyplot as plt\n",
    "import seaborn as sns\n",
    "from sklearn.preprocessing import StandardScaler\n",
    "from sklearn.model_selection import train_test_split\n",
    "from xgboost import XGBRegressor\n",
    "from sklearn.linear_model import LinearRegression\n",
    "from sklearn.tree import DecisionTreeRegressor\n",
    "from sklearn.ensemble import RandomForestRegressor\n",
    "from sklearn.ensemble import GradientBoostingRegressor\n",
    "from sklearn.ensemble import AdaBoostRegressor\n",
    "from sklearn.neighbors import KNeighborsRegressor\n",
    "from sklearn.metrics import mean_squared_error,mean_absolute_error,r2_score\n",
    "from sklearn.model_selection import GridSearchCV\n",
    "import warnings\n",
    "warnings.simplefilter('ignore')"
   ]
  },
  {
   "cell_type": "code",
   "execution_count": null,
   "metadata": {
    "colab": {
     "base_uri": "https://localhost:8080/",
     "height": 502
    },
    "id": "9ah5mwqCwDk3",
    "outputId": "1bf6cb89-6cd0-4e2b-cb8b-3b3b726d8165"
   },
   "outputs": [],
   "source": [
    "df = pd.read_csv(\"2022.csv\")\n",
    "df"
   ]
  },
  {
   "cell_type": "code",
   "execution_count": null,
   "metadata": {
    "colab": {
     "base_uri": "https://localhost:8080/",
     "height": 344
    },
    "id": "yBNUaymgwW_P",
    "outputId": "ab98c3bf-9105-4a69-e17f-0fbba15fefe4"
   },
   "outputs": [],
   "source": [
    "df.describe()"
   ]
  },
  {
   "cell_type": "code",
   "execution_count": null,
   "metadata": {
    "colab": {
     "base_uri": "https://localhost:8080/"
    },
    "id": "vwwAeStLIiV-",
    "outputId": "e98d4060-e080-431a-870b-cf3ba4311f9a"
   },
   "outputs": [],
   "source": [
    "df.isnull().sum()"
   ]
  },
  {
   "cell_type": "code",
   "execution_count": null,
   "metadata": {
    "colab": {
     "base_uri": "https://localhost:8080/"
    },
    "id": "nDbXA-22IndS",
    "outputId": "914af7e4-e960-4dff-f38f-197f21bce7fd"
   },
   "outputs": [],
   "source": [
    "df.dtypes"
   ]
  },
  {
   "cell_type": "code",
   "execution_count": null,
   "metadata": {
    "colab": {
     "base_uri": "https://localhost:8080/",
     "height": 485
    },
    "id": "VIWdG-URxgsG",
    "outputId": "d4d38d68-7408-4f04-8a9d-4b756f14eeaf"
   },
   "outputs": [],
   "source": [
    "def remove_outliers(df, column):\n",
    "    sorted(df)\n",
    "    Q1, Q3 = np.percentile(df[column],[25, 75])\n",
    "    IQR = Q3 - Q1\n",
    "    lower_range = Q1 - (1.5 * IQR)\n",
    "    upper_range = Q3 + (1.5 * IQR)\n",
    "    df = df[(df[column] > lower_range) & (df[column] < upper_range)]\n",
    "    return df\n",
    "\n",
    "df = remove_outliers(df, 'GDP per capita')\n",
    "df = remove_outliers(df, 'Social support')\n",
    "df = remove_outliers(df, 'Healthy life expectancy')\n",
    "df = remove_outliers(df, 'Freedom to make life choices')\n",
    "df = remove_outliers(df, 'Generosity')\n",
    "df = remove_outliers(df, 'Perceptions of corruption')\n",
    "\n",
    "# Check if there is any outliers\n",
    "\n",
    "df.boxplot(figsize=(20, 8))\n",
    "plt.show()"
   ]
  },
  {
   "cell_type": "code",
   "execution_count": null,
   "metadata": {
    "colab": {
     "base_uri": "https://localhost:8080/",
     "height": 405
    },
    "id": "S-QPnNqpQOlf",
    "outputId": "72ece03c-d5be-41fb-cb58-8e4fcfcb5059"
   },
   "outputs": [],
   "source": [
    "# Correlation matrix\n",
    "\n",
    "corr_matrix = df.corr()\n",
    "sns.heatmap(corr_matrix, annot=True, cmap='coolwarm')\n",
    "plt.show()"
   ]
  },
  {
   "cell_type": "code",
   "execution_count": null,
   "metadata": {
    "colab": {
     "base_uri": "https://localhost:8080/",
     "height": 1000
    },
    "id": "4CqjDPdPQbGe",
    "outputId": "6515a4eb-1ab3-4266-94f6-cab5f3cade03"
   },
   "outputs": [],
   "source": [
    "# Scatter plot\n",
    "\n",
    "sns.scatterplot(x = 'GDP per capita', y = 'Score', data = df)\n",
    "plt.show()\n",
    "\n",
    "sns.scatterplot(x = 'Social support', y = 'Score', data = df)\n",
    "plt.show()\n",
    "\n",
    "sns.scatterplot(x = 'Healthy life expectancy', y = 'Score', data = df)\n",
    "plt.show()\n",
    "\n",
    "sns.scatterplot(x = 'Freedom to make life choices', y = 'Score', data = df)\n",
    "plt.show()\n",
    "\n",
    "sns.scatterplot(x = 'Generosity', y = 'Score', data = df)\n",
    "plt.show()\n",
    "\n",
    "sns.scatterplot(x = 'Perceptions of corruption', y = 'Score', data = df)\n",
    "plt.show()"
   ]
  },
  {
   "cell_type": "code",
   "execution_count": null,
   "metadata": {
    "colab": {
     "base_uri": "https://localhost:8080/",
     "height": 623
    },
    "id": "Zfhhg2YPRczL",
    "outputId": "3f52cbed-2910-4541-dc18-2db9a76af636"
   },
   "outputs": [],
   "source": [
    "plt.figure(figsize=(25, 10))\n",
    "sns.barplot(x='Country or region', y='Score', data=df)\n",
    "plt.xticks(rotation=90)\n",
    "plt.show()"
   ]
  },
  {
   "cell_type": "code",
   "execution_count": null,
   "metadata": {
    "colab": {
     "base_uri": "https://localhost:8080/",
     "height": 702
    },
    "id": "t3N8vwsbSipd",
    "outputId": "112631da-68dc-46ca-d115-c15397cfca9a"
   },
   "outputs": [],
   "source": [
    "# Top 10 countries with the highest happiness score\n",
    "\n",
    "top10 = df.sort_values(by = 'Score', ascending = False).head(10)\n",
    "plt.figure(figsize=(20, 10))\n",
    "sns.barplot(x = 'Country or region', y = 'Score', data = top10)\n",
    "plt.xticks(rotation = 90)\n",
    "plt.show()"
   ]
  },
  {
   "cell_type": "code",
   "execution_count": null,
   "metadata": {
    "colab": {
     "base_uri": "https://localhost:8080/",
     "height": 606
    },
    "id": "xEpzpilbS41c",
    "outputId": "840af315-c0df-453e-f13b-cd65a475009f"
   },
   "outputs": [],
   "source": [
    "# Top 10 countries with the highest GDP per capita\n",
    "\n",
    "top10_gdp = df.sort_values(by = 'GDP per capita', ascending = False).head(10)\n",
    "plt.figure(figsize=(25, 10))\n",
    "sns.barplot(x = 'Country or region', y = 'GDP per capita', data = top10_gdp)\n",
    "plt.xticks(rotation = 90)\n",
    "plt.show()"
   ]
  },
  {
   "cell_type": "code",
   "execution_count": null,
   "metadata": {
    "colab": {
     "base_uri": "https://localhost:8080/",
     "height": 573
    },
    "id": "Sbu-_Xs9S8aE",
    "outputId": "1937c004-c880-4317-d26b-b6cfc47d2506"
   },
   "outputs": [],
   "source": [
    "# Top 10 countries with the highest social support\n",
    "\n",
    "top10_social = df.sort_values(by = 'Social support', ascending = False).head(10)\n",
    "plt.figure(figsize=(25, 10))\n",
    "sns.barplot(x = 'Country or region', y = 'Social support', data = top10_social)\n",
    "plt.xticks(rotation = 90)\n",
    "plt.show()"
   ]
  },
  {
   "cell_type": "code",
   "execution_count": null,
   "metadata": {
    "colab": {
     "base_uri": "https://localhost:8080/",
     "height": 586
    },
    "id": "g9yTIvVIS003",
    "outputId": "0c58d8d7-7684-4e18-938f-8f2ff987cdea"
   },
   "outputs": [],
   "source": [
    "# Top 10 countries with the highest healthy life expectancy\n",
    "\n",
    "top10_health = df.sort_values(by = 'Healthy life expectancy', ascending = False).head(10)\n",
    "plt.figure(figsize=(25, 10))\n",
    "sns.barplot(x = 'Country or region', y = 'Healthy life expectancy', data = top10_health)\n",
    "plt.xticks(rotation = 90)\n",
    "plt.show()"
   ]
  },
  {
   "cell_type": "code",
   "execution_count": 23,
   "metadata": {
    "id": "bPIDB68YTgrO"
   },
   "outputs": [],
   "source": [
    "# Splitting the data into features and target\n",
    "X = df.drop(['Country or region', 'Score'], axis=1)\n",
    "y = df['Score']"
   ]
  },
  {
   "cell_type": "code",
   "execution_count": 24,
   "metadata": {
    "id": "w4Nu-N8YUHgs"
   },
   "outputs": [],
   "source": [
    "# Splitting the dataset into the Training set and Test set\n",
    "X_train, X_test, y_train, y_test = train_test_split(X, y, test_size = 0.2)"
   ]
  },
  {
   "cell_type": "code",
   "execution_count": 25,
   "metadata": {
    "id": "mQ3Ye3T2UFhz"
   },
   "outputs": [],
   "source": [
    "# Feature Scaling\n",
    "s = StandardScaler()\n",
    "X_train = s.fit_transform(X_train)\n",
    "X_test = s.fit_transform(X_test)"
   ]
  },
  {
   "cell_type": "code",
   "execution_count": null,
   "metadata": {
    "colab": {
     "base_uri": "https://localhost:8080/"
    },
    "id": "wjZAguYoULgU",
    "outputId": "56a91a6a-7e87-4edc-d87e-76846fa40e19"
   },
   "outputs": [],
   "source": [
    "# Linear Regression\n",
    "lr = LinearRegression()\n",
    "lr.fit(X_train, y_train)\n",
    "lr_pred = lr.predict(X_test)\n",
    "lr_score = lr.score(X_test, y_test)\n",
    "print('Linear Regression Score: ', lr_score)"
   ]
  },
  {
   "cell_type": "code",
   "execution_count": null,
   "metadata": {
    "colab": {
     "base_uri": "https://localhost:8080/"
    },
    "id": "wvpNbp2-VAbV",
    "outputId": "0c5fb287-f270-45ee-8600-8103d42ad17f"
   },
   "outputs": [],
   "source": [
    "# Decision Tree\n",
    "dt = DecisionTreeRegressor()\n",
    "dt.fit(X_train, y_train)\n",
    "dt_pred = dt.predict(X_test)\n",
    "dt_score = dt.score(X_test, y_test)\n",
    "print('Decision Tree Score: ', dt_score)"
   ]
  },
  {
   "cell_type": "code",
   "execution_count": null,
   "metadata": {
    "colab": {
     "base_uri": "https://localhost:8080/"
    },
    "id": "qS_bkPw6UkQ9",
    "outputId": "8eba251f-86fa-4731-e062-4915256d2863"
   },
   "outputs": [],
   "source": [
    "# Random Forest\n",
    "rf = RandomForestRegressor()\n",
    "rf.fit(X_train, y_train)\n",
    "rf_pred = rf.predict(X_test)\n",
    "rf_score = rf.score(X_test, y_test)\n",
    "print('Random Forest Score: ', rf_score)"
   ]
  },
  {
   "cell_type": "code",
   "execution_count": null,
   "metadata": {
    "colab": {
     "base_uri": "https://localhost:8080/"
    },
    "id": "yIaA4PpbVE3o",
    "outputId": "0d359831-c401-4176-e225-c74d1e136a45"
   },
   "outputs": [],
   "source": [
    "# XGBoost\n",
    "xgb = XGBRegressor()\n",
    "xgb.fit(X_train, y_train)\n",
    "xgb_pred = xgb.predict(X_test)\n",
    "xgb_score = xgb.score(X_test, y_test)\n",
    "print('XGBoost Score: ', xgb_score)"
   ]
  },
  {
   "cell_type": "code",
   "execution_count": null,
   "metadata": {
    "colab": {
     "base_uri": "https://localhost:8080/"
    },
    "id": "MQz-9NWuVPR1",
    "outputId": "8f4b703f-a79b-4ecf-be08-04c1e5ba34a6"
   },
   "outputs": [],
   "source": [
    "# GradientBoostingRegressor\n",
    "gb = GradientBoostingRegressor()\n",
    "gb.fit(X_train, y_train)\n",
    "gb_pred = gb.predict(X_test)\n",
    "gb_score = gb.score(X_test, y_test)\n",
    "print('GradientBoostingRegressor Score: ', gb_score)"
   ]
  },
  {
   "cell_type": "code",
   "execution_count": null,
   "metadata": {
    "colab": {
     "base_uri": "https://localhost:8080/"
    },
    "id": "pmHZWG3rVSS7",
    "outputId": "c7f5ef79-ff27-4d4c-ef59-4bfe66619075"
   },
   "outputs": [],
   "source": [
    "# AdaBoostRegressor\n",
    "ada = AdaBoostRegressor()\n",
    "ada.fit(X_train, y_train)\n",
    "ada_pred = ada.predict(X_test)\n",
    "ada_score = ada.score(X_test, y_test)\n",
    "print('AdaBoostRegressor Score: ', ada_score)"
   ]
  },
  {
   "cell_type": "code",
   "execution_count": null,
   "metadata": {
    "colab": {
     "base_uri": "https://localhost:8080/"
    },
    "id": "tpohHfvMVUA8",
    "outputId": "1c5b69cb-ac53-403b-a565-94bae47cc40a"
   },
   "outputs": [],
   "source": [
    "# KNeighborsRegressor\n",
    "knn = KNeighborsRegressor()\n",
    "knn.fit(X_train, y_train)\n",
    "knn_pred = knn.predict(X_test)\n",
    "knn_score = knn.score(X_test, y_test)\n",
    "print('KNeighborsRegressor Score: ', knn_score)"
   ]
  },
  {
   "cell_type": "code",
   "execution_count": null,
   "metadata": {
    "colab": {
     "base_uri": "https://localhost:8080/"
    },
    "id": "e1MI7iaQWKZW",
    "outputId": "39973068-03d0-4baa-8246-76957128df96"
   },
   "outputs": [],
   "source": [
    "# Linear Regression\n",
    "print('Linear Regression')\n",
    "print('Mean Squared Error:', mean_squared_error(y_test, lr_pred))\n",
    "print('Root Mean Squared Error:', np.sqrt(mean_squared_error(y_test, lr_pred)))\n",
    "print('Mean Absolute Error:', mean_absolute_error(y_test, lr_pred))\n",
    "print('R2 Score:', r2_score(y_test, lr_pred))"
   ]
  },
  {
   "cell_type": "code",
   "execution_count": 34,
   "metadata": {
    "colab": {
     "base_uri": "https://localhost:8080/"
    },
    "id": "gbsjzFMCXu1E",
    "outputId": "fd2cb746-9fc0-45b6-bac1-9802e890d81f"
   },
   "outputs": [
    {
     "name": "stdout",
     "output_type": "stream",
     "text": [
      "Decision Tree\n",
      "Mean Squared Error: 0.041122192307692276\n",
      "Root Mean Squared Error: 0.20278607523124528\n",
      "Mean Absolute Error: 0.11980769230769234\n",
      "R2 Score: 0.9520337302795832\n"
     ]
    }
   ],
   "source": [
    "# Decision Tree\n",
    "print('Decision Tree')\n",
    "print('Mean Squared Error:', mean_squared_error(y_test, dt_pred))\n",
    "print('Root Mean Squared Error:', np.sqrt(mean_squared_error(y_test, dt_pred)))\n",
    "print('Mean Absolute Error:', mean_absolute_error(y_test, dt_pred))\n",
    "print('R2 Score:', r2_score(y_test, dt_pred))\n"
   ]
  },
  {
   "cell_type": "code",
   "execution_count": null,
   "metadata": {
    "colab": {
     "base_uri": "https://localhost:8080/"
    },
    "id": "GAoG8HLmXvec",
    "outputId": "5e727fed-d194-4ea7-e3c3-93cbe62ea3d4"
   },
   "outputs": [],
   "source": [
    "# Random Forest\n",
    "print('Random Forest')\n",
    "print('Mean Squared Error:', mean_squared_error(y_test, rf_pred))\n",
    "print('Root Mean Squared Error:', np.sqrt(mean_squared_error(y_test, rf_pred)))\n",
    "print('Mean Absolute Error:', mean_absolute_error(y_test, rf_pred))\n",
    "print('R2 Score:', r2_score(y_test, rf_pred))"
   ]
  },
  {
   "cell_type": "code",
   "execution_count": null,
   "metadata": {
    "colab": {
     "base_uri": "https://localhost:8080/"
    },
    "id": "yKT8ALBMX4AS",
    "outputId": "f75e46ea-f91d-4724-d6b9-982924ccc5a3"
   },
   "outputs": [],
   "source": [
    "# XGBoost\n",
    "print('XGBoost')\n",
    "print('Mean Squared Error:', mean_squared_error(y_test, xgb_pred))\n",
    "print('Root Mean Squared Error:', np.sqrt(mean_squared_error(y_test, xgb_pred)))\n",
    "print('Mean Absolute Error:', mean_absolute_error(y_test, xgb_pred))\n",
    "print('R2 Score:', r2_score(y_test, xgb_pred))"
   ]
  },
  {
   "cell_type": "code",
   "execution_count": null,
   "metadata": {
    "colab": {
     "base_uri": "https://localhost:8080/"
    },
    "id": "fbZBT8TtX88l",
    "outputId": "360387b9-5b5d-42fb-cea1-b9e16b283827"
   },
   "outputs": [],
   "source": [
    "# GradientBoostingRegressor\n",
    "print('GradientBoostingRegressor')\n",
    "print('Mean Squared Error:', mean_squared_error(y_test, gb_pred))\n",
    "print('Root Mean Squared Error:', np.sqrt(mean_squared_error(y_test, gb_pred)))\n",
    "print('Mean Absolute Error:', mean_absolute_error(y_test, gb_pred))\n",
    "print('R2 Score:', r2_score(y_test, gb_pred))\n"
   ]
  },
  {
   "cell_type": "code",
   "execution_count": null,
   "metadata": {
    "colab": {
     "base_uri": "https://localhost:8080/"
    },
    "id": "gJFPJC7pX9-1",
    "outputId": "16275b1f-79bc-4c2e-9374-fafde633c011"
   },
   "outputs": [],
   "source": [
    "# AdaBoostRegressor\n",
    "print('AdaBoostRegressor')\n",
    "print('Mean Squared Error:', mean_squared_error(y_test, ada_pred))\n",
    "print('Root Mean Squared Error:', np.sqrt(mean_squared_error(y_test, ada_pred)))\n",
    "print('Mean Absolute Error:', mean_absolute_error(y_test, ada_pred))\n",
    "print('R2 Score:', r2_score(y_test, ada_pred))"
   ]
  },
  {
   "cell_type": "code",
   "execution_count": null,
   "metadata": {
    "colab": {
     "base_uri": "https://localhost:8080/"
    },
    "id": "J-sh5g4AYCst",
    "outputId": "c5db8663-4527-4802-c639-94bddcaa6590"
   },
   "outputs": [],
   "source": [
    "# KNeighborsRegressor\n",
    "print('KNeighborsRegressor')\n",
    "print('Mean Squared Error:', mean_squared_error(y_test, knn_pred))\n",
    "print('Root Mean Squared Error:', np.sqrt(mean_squared_error(y_test, knn_pred)))\n",
    "print('Mean Absolute Error:', mean_absolute_error(y_test, knn_pred))\n",
    "print('R2 Score:', r2_score(y_test, knn_pred))"
   ]
  },
  {
   "cell_type": "code",
   "execution_count": null,
   "metadata": {
    "colab": {
     "base_uri": "https://localhost:8080/"
    },
    "id": "tdBuZCK4ZT8V",
    "outputId": "ab515520-d31f-4305-9d5b-0329cac0fae0"
   },
   "outputs": [],
   "source": [
    "# Random Forest\n",
    "rf_params = {\"max_depth\": [3, 5, 8, None],\n",
    "                \"max_features\": [3, 5, 10],\n",
    "                \"min_samples_split\": [2, 5, 10],\n",
    "                \"min_samples_leaf\": [1, 3, 5, 10],\n",
    "                \"bootstrap\": [True, False],\n",
    "                \"n_estimators\": [100, 500, 1000],\n",
    "                \"random_state\": [42]}\n",
    "rf_model = GridSearchCV(rf, rf_params, cv=5, n_jobs=-1, verbose=2)\n",
    "rf_model.fit(X_train, y_train)\n",
    "rf_tuned_score = rf_model.score(X_test,y_test)\n",
    "print(\"Best Parameters: \" + str(rf_model.best_params_))"
   ]
  },
  {
   "cell_type": "code",
   "execution_count": null,
   "metadata": {
    "colab": {
     "base_uri": "https://localhost:8080/"
    },
    "id": "-lYFe2npZhtk",
    "outputId": "1178e030-85ea-4b36-c42a-f11bc0adff65"
   },
   "outputs": [],
   "source": [
    "# GradientBoostingRegressor\n",
    "gb_params = {\"learning_rate\": [0.01, 0.1, 0.05],\n",
    "                \"max_depth\": [3, 5, 8],\n",
    "                \"max_features\": [3, 5, 10],\n",
    "                \"min_samples_split\": [2, 5, 10],\n",
    "                \"min_samples_leaf\": [1, 3, 5, 10],\n",
    "                \"n_estimators\": [100, 500, 1000],\n",
    "                \"subsample\": [1, 0.5, 0.75],\n",
    "                \"random_state\": [42]}\n",
    "gb_cv_model = GridSearchCV(gb, gb_params, cv=5, n_jobs=-1, verbose=2)\n",
    "gb_cv_model.fit(X_train, y_train)\n",
    "print(\"Best Parameters: \" + str(gb_cv_model.best_params_))\n"
   ]
  },
  {
   "cell_type": "code",
   "execution_count": null,
   "metadata": {
    "colab": {
     "base_uri": "https://localhost:8080/"
    },
    "id": "0s73NE3HZlHF",
    "outputId": "7de258cc-59ac-4a1d-a9d9-5f61a255b493"
   },
   "outputs": [],
   "source": [
    "# AdaBoostRegressor\n",
    "ada_params = {\"learning_rate\": [0.01, 0.1, 0.05],\n",
    "                \"n_estimators\": [100, 500, 1000],\n",
    "                \"random_state\": [42]}\n",
    "ada_cv_model = GridSearchCV(ada, ada_params, cv=5, n_jobs=-1, verbose=2)\n",
    "ada_cv_model.fit(X_train, y_train)\n",
    "print(\"Best Parameters: \" + str(ada_cv_model.best_params_))\n"
   ]
  },
  {
   "cell_type": "code",
   "execution_count": null,
   "metadata": {
    "colab": {
     "base_uri": "https://localhost:8080/"
    },
    "id": "R5nDY6v5Znsl",
    "outputId": "080b6a86-0b04-49e4-8c2b-037e4837642f"
   },
   "outputs": [],
   "source": [
    "# KNeighborsRegressor\n",
    "knn_params = {\"n_neighbors\": np.arange(1, 50)}\n",
    "knn_cv_model = GridSearchCV(knn, knn_params, cv=5, n_jobs=-1, verbose=2)\n",
    "knn_cv_model.fit(X_train, y_train)\n",
    "print(\"Best Parameters: \" + str(knn_cv_model.best_params_))"
   ]
  },
  {
   "cell_type": "code",
   "execution_count": null,
   "metadata": {
    "colab": {
     "base_uri": "https://localhost:8080/"
    },
    "id": "etxbWsuti2EW",
    "outputId": "d0178bc5-3f56-4800-adb4-99cf03adccf7"
   },
   "outputs": [],
   "source": [
    "models = [\n",
    "    RandomForestRegressor(),\n",
    "    GradientBoostingRegressor(),\n",
    "    AdaBoostRegressor(),\n",
    "    KNeighborsRegressor()\n",
    "]\n",
    "\n",
    "for model in models:\n",
    "    model.fit(X_train, y_train)\n",
    "    y_pred = model.predict(X_test)\n",
    "    print(model)\n",
    "    print('Mean Squared Error:', mean_squared_error(y_test, y_pred))\n",
    "    print('Root Mean Squared Error:', np.sqrt(mean_squared_error(y_test, y_pred)))\n",
    "    print('Mean Absolute Error:', mean_absolute_error(y_test, y_pred))\n",
    "    print('R2 Score:', r2_score(y_test, y_pred))\n",
    "  "
   ]
  },
  {
   "cell_type": "code",
   "execution_count": null,
   "metadata": {
    "colab": {
     "base_uri": "https://localhost:8080/"
    },
    "id": "E_PaV73aj8hi",
    "outputId": "808ad7e9-90f4-4f06-f428-1043d8af8d18"
   },
   "outputs": [],
   "source": [
    "# Random Forest\n",
    "rf_tuned = RandomForestRegressor(bootstrap=False, max_depth=8, max_features=5, min_samples_leaf=1, min_samples_split=2, n_estimators=1000, random_state=42)\n",
    "rf_tuned.fit(X_train, y_train)\n",
    "rf_tuned_score = rf_tuned.score(X_test,y_test)\n",
    "rf_tuned_pred = rf_tuned.predict(X_test)\n",
    "print('Random Forest Tuned')\n",
    "print('Mean Squared Error:', mean_squared_error(y_test, rf_tuned_pred))\n",
    "print('Root Mean Squared Error:', np.sqrt(mean_squared_error(y_test, rf_tuned_pred)))\n",
    "print('Mean Absolute Error:', mean_absolute_error(y_test, rf_tuned_pred))\n",
    "print('R2 Score:', r2_score(y_test, rf_tuned_pred))\n",
    "print('Accuracy:',rf_tuned_score )\n",
    "\n",
    "# GradientBoostingRegressor\n",
    "gb_tuned = GradientBoostingRegressor(learning_rate=0.01, max_depth=3, max_features=5, min_samples_leaf=1, min_samples_split=2, n_estimators=1000, random_state=42, subsample=1)\n",
    "gb_tuned.fit(X_train, y_train)\n",
    "gb_tuned_score = gb_tuned.score(X_test,y_test)\n",
    "gb_tuned_pred = gb_tuned.predict(X_test)\n",
    "print('GradientBoostingRegressor Tuned')\n",
    "print('Mean Squared Error:', mean_squared_error(y_test, gb_tuned_pred))\n",
    "print('Root Mean Squared Error:', np.sqrt(mean_squared_error(y_test, gb_tuned_pred)))\n",
    "print('Mean Absolute Error:', mean_absolute_error(y_test, gb_tuned_pred))\n",
    "print('R2 Score:', r2_score(y_test, gb_tuned_pred))\n",
    "print('Accuracy:',gb_tuned_score )\n",
    "\n",
    "# AdaBoostRegressor\n",
    "ada_tuned = AdaBoostRegressor(learning_rate=0.01, n_estimators=500, random_state=42)\n",
    "ada_tuned.fit(X_train, y_train)\n",
    "ada_tuned_score = ada_tuned.score(X_test,y_test)\n",
    "ada_tuned_pred = ada_tuned.predict(X_test)\n",
    "print('AdaBoostRegressor Tuned')\n",
    "print('Mean Squared Error:', mean_squared_error(y_test, ada_tuned_pred))\n",
    "print('Root Mean Squared Error:', np.sqrt(mean_squared_error(y_test, ada_tuned_pred)))\n",
    "print('Mean Absolute Error:', mean_absolute_error(y_test, ada_tuned_pred))\n",
    "print('R2 Score:', r2_score(y_test, ada_tuned_pred))\n",
    "print('Accuracy:',gb_tuned_score )\n",
    "\n"
   ]
  },
  {
   "cell_type": "code",
   "execution_count": null,
   "metadata": {
    "colab": {
     "base_uri": "https://localhost:8080/"
    },
    "id": "pXknogihk8TH",
    "outputId": "f790fd5b-bd99-4ae4-c46f-5d95accef9b1"
   },
   "outputs": [],
   "source": [
    "# KNeighborsRegressor\n",
    "knn_tuned = KNeighborsRegressor(n_neighbors=7)\n",
    "knn_tuned.fit(X_train, y_train)\n",
    "knn_tuned_score =knn_tuned.score(X_test,y_test)\n",
    "knn_tuned_pred = knn_tuned.predict(X_test)\n",
    "print('KNeighborsRegressor Tuned')\n",
    "print('Mean Squared Error:', mean_squared_error(y_test, knn_tuned_pred))\n",
    "print('Root Mean Squared Error:', np.sqrt(mean_squared_error(y_test, knn_tuned_pred)))\n",
    "print('Mean Absolute Error:', mean_absolute_error(y_test, knn_tuned_pred))\n",
    "print('R2 Score:', r2_score(y_test, knn_tuned_pred))\n",
    "print('Accuracy:',knn_tuned_score )"
   ]
  },
  {
   "cell_type": "code",
   "execution_count": 45,
   "metadata": {
    "id": "HSuuQC5V_0D6"
   },
   "outputs": [],
   "source": [
    "dictionary = {\n",
    "    \"Models\":[\"RandomForestRegressor()\",\"GradientBoostingRegressor()\",\"AdaBoostRegressor()\",\"KNeighborsRegressor()\"],\n",
    "    \"old_score\":[rf_score,gb_score,ada_score,knn_score],\n",
    "    \"new_score\":[rf_tuned_score,gb_tuned_score,ada_tuned_score,knn_tuned_score]\n",
    "}"
   ]
  },
  {
   "cell_type": "code",
   "execution_count": null,
   "metadata": {
    "colab": {
     "base_uri": "https://localhost:8080/",
     "height": 175
    },
    "id": "TMbahnO8BZ_1",
    "outputId": "ddadd98b-4c49-4f02-cb2c-69d16d126bd4"
   },
   "outputs": [],
   "source": [
    "df = pd.DataFrame(dictionary)\n",
    "df"
   ]
  },
  {
   "cell_type": "code",
   "execution_count": null,
   "metadata": {
    "colab": {
     "base_uri": "https://localhost:8080/",
     "height": 350
    },
    "id": "UcyWigQup685",
    "outputId": "c1de8102-3754-4d20-b706-178be152b82e"
   },
   "outputs": [],
   "source": [
    "# Random Forest\n",
    "rf_tuned_pred = rf_tuned.predict(X_test)\n",
    "plt.figure(figsize=(10, 5))\n",
    "plt.scatter(y_test, rf_tuned_pred, color='red')\n",
    "plt.plot(y_test, y_test, color='blue')\n",
    "plt.xlabel('Actual')\n",
    "plt.ylabel('Predicted')\n",
    "plt.title('Random Forest Tuned')\n",
    "plt.show()"
   ]
  }
 ],
 "metadata": {
  "colab": {
   "provenance": []
  },
  "kernelspec": {
   "display_name": "Python 3",
   "name": "python3"
  },
  "language_info": {
   "codemirror_mode": {
    "name": "ipython",
    "version": 3
   },
   "file_extension": ".py",
   "mimetype": "text/x-python",
   "name": "python",
   "nbconvert_exporter": "python",
   "pygments_lexer": "ipython3",
   "version": "3.12.2"
  }
 },
 "nbformat": 4,
 "nbformat_minor": 0
}
